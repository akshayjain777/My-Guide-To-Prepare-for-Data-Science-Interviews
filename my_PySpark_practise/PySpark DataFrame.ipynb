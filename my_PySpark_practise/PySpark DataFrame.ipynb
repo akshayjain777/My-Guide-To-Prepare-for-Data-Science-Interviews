{
 "cells": [
  {
   "cell_type": "code",
   "execution_count": 1,
   "id": "e47013b1-597b-4510-8122-1b87904ad7eb",
   "metadata": {},
   "outputs": [
    {
     "name": "stderr",
     "output_type": "stream",
     "text": [
      "23/08/17 14:02:23 WARN Utils: Your hostname, Akshays-MacBook-Air.local resolves to a loopback address: 127.0.0.1; using 172.21.0.178 instead (on interface en0)\n",
      "23/08/17 14:02:23 WARN Utils: Set SPARK_LOCAL_IP if you need to bind to another address\n",
      "Setting default log level to \"WARN\".\n",
      "To adjust logging level use sc.setLogLevel(newLevel). For SparkR, use setLogLevel(newLevel).\n",
      "23/08/17 14:02:24 WARN NativeCodeLoader: Unable to load native-hadoop library for your platform... using builtin-java classes where applicable\n",
      "23/08/17 14:02:24 WARN Utils: Service 'SparkUI' could not bind on port 4040. Attempting port 4041.\n",
      "23/08/17 14:02:24 WARN Utils: Service 'SparkUI' could not bind on port 4041. Attempting port 4042.\n"
     ]
    }
   ],
   "source": [
    "from pyspark.sql import SparkSession\n",
    "spark = SparkSession.builder.appName('DataFrame').getOrCreate()"
   ]
  },
  {
   "cell_type": "code",
   "execution_count": 2,
   "id": "b7c463b9-b2be-4a34-b6b3-c1c1b71a8e76",
   "metadata": {},
   "outputs": [
    {
     "data": {
      "text/html": [
       "\n",
       "            <div>\n",
       "                <p><b>SparkSession - in-memory</b></p>\n",
       "                \n",
       "        <div>\n",
       "            <p><b>SparkContext</b></p>\n",
       "\n",
       "            <p><a href=\"http://172.21.0.178:4042\">Spark UI</a></p>\n",
       "\n",
       "            <dl>\n",
       "              <dt>Version</dt>\n",
       "                <dd><code>v3.4.1</code></dd>\n",
       "              <dt>Master</dt>\n",
       "                <dd><code>local[*]</code></dd>\n",
       "              <dt>AppName</dt>\n",
       "                <dd><code>DataFrame</code></dd>\n",
       "            </dl>\n",
       "        </div>\n",
       "        \n",
       "            </div>\n",
       "        "
      ],
      "text/plain": [
       "<pyspark.sql.session.SparkSession at 0x108b631c0>"
      ]
     },
     "execution_count": 2,
     "metadata": {},
     "output_type": "execute_result"
    }
   ],
   "source": [
    "spark"
   ]
  },
  {
   "cell_type": "code",
   "execution_count": 12,
   "id": "402be528-06dc-407a-99f5-15f407f3a854",
   "metadata": {},
   "outputs": [],
   "source": [
    "## Read Dataset\n",
    "df_pyspark = spark.read.option('header','true').csv('test1.csv', inferSchema = True) ### InferSchema to Map var to actual Datatype "
   ]
  },
  {
   "cell_type": "code",
   "execution_count": 13,
   "id": "c3a8414f-2227-41af-b9b0-22af6c3bcbc1",
   "metadata": {},
   "outputs": [
    {
     "name": "stdout",
     "output_type": "stream",
     "text": [
      "root\n",
      " |-- Name: string (nullable = true)\n",
      " |-- Age: integer (nullable = true)\n",
      " |-- Experience: integer (nullable = true)\n",
      "\n"
     ]
    }
   ],
   "source": [
    "## Check the Schema\n",
    "df_pyspark.printSchema()"
   ]
  },
  {
   "cell_type": "code",
   "execution_count": 29,
   "id": "c4fe86b4-996f-45e2-a550-8b5ed4f5398b",
   "metadata": {},
   "outputs": [
    {
     "name": "stdout",
     "output_type": "stream",
     "text": [
      "+------+---+----------+\n",
      "|  Name|Age|Experience|\n",
      "+------+---+----------+\n",
      "|Akshay| 29|        10|\n",
      "| Sagar| 35|         8|\n",
      "| Ashok| 34|         4|\n",
      "+------+---+----------+\n",
      "\n"
     ]
    }
   ],
   "source": [
    "df_pyspark1 = spark.read.option('header','true').csv('test1.csv', inferSchema = True).show()\n",
    "df_pyspark1"
   ]
  },
  {
   "cell_type": "code",
   "execution_count": 30,
   "id": "aed706b6-ee64-4b53-8a9b-7ff9e8e0594f",
   "metadata": {},
   "outputs": [
    {
     "data": {
      "text/plain": [
       "[Row(Name='Akshay', Age=29, Experience=10),\n",
       " Row(Name='Sagar', Age=35, Experience=8),\n",
       " Row(Name='Ashok', Age=34, Experience=4)]"
      ]
     },
     "execution_count": 30,
     "metadata": {},
     "output_type": "execute_result"
    }
   ],
   "source": [
    "df_pyspark.head(3) ## Unlike pandas with head the output will come in list format"
   ]
  },
  {
   "cell_type": "code",
   "execution_count": 31,
   "id": "ef7b21f5-d1f0-42c6-a2ff-70a882e2dbb6",
   "metadata": {},
   "outputs": [
    {
     "name": "stdout",
     "output_type": "stream",
     "text": [
      "+------+\n",
      "|  Name|\n",
      "+------+\n",
      "|Akshay|\n",
      "| Sagar|\n",
      "| Ashok|\n",
      "+------+\n",
      "\n"
     ]
    }
   ],
   "source": [
    "df_pyspark.select('Name').show() ## using select keyword to select specific columns"
   ]
  },
  {
   "cell_type": "code",
   "execution_count": 32,
   "id": "407a2cbc-cfc8-48c0-ac57-4ecee028d3ce",
   "metadata": {},
   "outputs": [
    {
     "name": "stdout",
     "output_type": "stream",
     "text": [
      "+------+----------+\n",
      "|  Name|Experience|\n",
      "+------+----------+\n",
      "|Akshay|        10|\n",
      "| Sagar|         8|\n",
      "| Ashok|         4|\n",
      "+------+----------+\n",
      "\n"
     ]
    }
   ],
   "source": [
    "df_pyspark.select(['Name','Experience']).show() ## select multiple columns"
   ]
  },
  {
   "cell_type": "code",
   "execution_count": 33,
   "id": "89639916-1097-42c3-b454-0c2fec3a88af",
   "metadata": {},
   "outputs": [
    {
     "name": "stdout",
     "output_type": "stream",
     "text": [
      "+-------+------+------------------+-----------------+\n",
      "|summary|  Name|               Age|       Experience|\n",
      "+-------+------+------------------+-----------------+\n",
      "|  count|     3|                 3|                3|\n",
      "|   mean|  null|32.666666666666664|7.333333333333333|\n",
      "| stddev|  null|3.2145502536643185|3.055050463303893|\n",
      "|    min|Akshay|                29|                4|\n",
      "|    max| Sagar|                35|               10|\n",
      "+-------+------+------------------+-----------------+\n",
      "\n"
     ]
    }
   ],
   "source": [
    "df_pyspark.describe().show() ## similar to pandas"
   ]
  },
  {
   "cell_type": "code",
   "execution_count": 34,
   "id": "2cadda6d-5950-44a1-99ed-5593b7ed11e3",
   "metadata": {},
   "outputs": [],
   "source": [
    "## Adding Colmns in dataframe\n",
    "df_spark2 = df_pyspark.withColumn('Experience after 2 years', df_pyspark['Experience']+2)"
   ]
  },
  {
   "cell_type": "code",
   "execution_count": 35,
   "id": "1af515af-ee7d-4a89-9cae-69657199a441",
   "metadata": {},
   "outputs": [
    {
     "name": "stdout",
     "output_type": "stream",
     "text": [
      "+------+---+----------+------------------------+\n",
      "|  Name|Age|Experience|Experience after 2 years|\n",
      "+------+---+----------+------------------------+\n",
      "|Akshay| 29|        10|                      12|\n",
      "| Sagar| 35|         8|                      10|\n",
      "| Ashok| 34|         4|                       6|\n",
      "+------+---+----------+------------------------+\n",
      "\n"
     ]
    }
   ],
   "source": [
    "df_spark2.show()"
   ]
  },
  {
   "cell_type": "code",
   "execution_count": 39,
   "id": "f470322d-e19c-4a4e-a2e1-84cf6fe1abb1",
   "metadata": {},
   "outputs": [],
   "source": [
    "## Drop the columns\n",
    "df_spark3= df_spark2.drop('Experience after 2 years')"
   ]
  },
  {
   "cell_type": "code",
   "execution_count": 40,
   "id": "5d8b8e44-096a-4381-b02b-0234de6f3841",
   "metadata": {},
   "outputs": [
    {
     "name": "stdout",
     "output_type": "stream",
     "text": [
      "+------+---+----------+\n",
      "|  Name|Age|Experience|\n",
      "+------+---+----------+\n",
      "|Akshay| 29|        10|\n",
      "| Sagar| 35|         8|\n",
      "| Ashok| 34|         4|\n",
      "+------+---+----------+\n",
      "\n"
     ]
    }
   ],
   "source": [
    "df_spark3.show()"
   ]
  },
  {
   "cell_type": "code",
   "execution_count": 38,
   "id": "80e12efd-ed8f-477a-8878-b3fa7e28f615",
   "metadata": {},
   "outputs": [
    {
     "name": "stdout",
     "output_type": "stream",
     "text": [
      "+--------+---+----------+\n",
      "|New Name|Age|Experience|\n",
      "+--------+---+----------+\n",
      "|  Akshay| 29|        10|\n",
      "|   Sagar| 35|         8|\n",
      "|   Ashok| 34|         4|\n",
      "+--------+---+----------+\n",
      "\n"
     ]
    }
   ],
   "source": [
    "## Rename the columns\n",
    "df_spark3.withColumnRenamed('Name','New Name').show()"
   ]
  },
  {
   "cell_type": "code",
   "execution_count": null,
   "id": "0607f6fa-1b4a-449a-a331-c9485da743cc",
   "metadata": {},
   "outputs": [],
   "source": []
  }
 ],
 "metadata": {
  "kernelspec": {
   "display_name": "Python 3 (ipykernel)",
   "language": "python",
   "name": "python3"
  },
  "language_info": {
   "codemirror_mode": {
    "name": "ipython",
    "version": 3
   },
   "file_extension": ".py",
   "mimetype": "text/x-python",
   "name": "python",
   "nbconvert_exporter": "python",
   "pygments_lexer": "ipython3",
   "version": "3.9.16"
  }
 },
 "nbformat": 4,
 "nbformat_minor": 5
}
